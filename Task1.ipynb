{
 "cells": [
  {
   "cell_type": "markdown",
   "metadata": {},
   "source": [
    "# Task1 - Getting To Philosophy"
   ]
  },
  {
   "cell_type": "code",
   "execution_count": 2,
   "metadata": {},
   "outputs": [
    {
     "name": "stdout",
     "output_type": "stream",
     "text": [
      "https://en.wikipedia.org/wiki/Idea\n",
      "Title = Idea - Wikipedia:  https://en.wikipedia.org/wiki/Idea\n",
      "Title = Philosophy - Wikipedia:  https://en.wikipedia.org/wiki/Philosophy\n",
      "reached the end Philosophy\n"
     ]
    }
   ],
   "source": [
    "from bs4 import BeautifulSoup\n",
    "import requests\n",
    "import re \n",
    "import time\n",
    "\n",
    "\n",
    "visited = []\n",
    "\n",
    "def check_in_tag(content_div, tag):\n",
    "    global visited\n",
    "    \n",
    "    valid_link = None\n",
    "    tags = content_div.select(tag)\n",
    "    found_link = False\n",
    "    \n",
    "    for t in tags:\n",
    "        if t.find(\"a\"):\n",
    "            t_str = str(t)\n",
    "            t_str_formatted = re.sub(\"\\((.+?)\\)\", \"\", t_str) #remove paranthesis\n",
    "            t_str_formatted = re.sub(\"\\[(.+?)\\]\", \"\", t_str_formatted) #remove square brackets\n",
    "            s = BeautifulSoup(t_str_formatted, \"html.parser\")  #beautiful soup object\n",
    "            a_list = s.find_all(\"a\") #list of links\n",
    "            \n",
    "            for a_elem in a_list:\n",
    "                \n",
    "                if a_elem.get('href') and '#' in a_elem.get('href'):\n",
    "                    continue\n",
    "                elif a_elem.get('href'):\n",
    "                    valid_link = a_elem.get('href')\n",
    "                    if valid_link in visited:\n",
    "                        print(f\"loop detected of link {valid_link}\")\n",
    "                        return True, None\n",
    "                    else:\n",
    "                        visited.append(valid_link)\n",
    "                        break\n",
    "            if valid_link is not None:\n",
    "                found_link = True\n",
    "                break\n",
    "    \n",
    "    return found_link, valid_link\n",
    "\n",
    "def first_valid_link(url):\n",
    "    global visited\n",
    "    src_code = requests.get(url)\n",
    "    plain_text = src_code.text\n",
    "    soup = BeautifulSoup(plain_text, \"html.parser\")\n",
    "    print(f\"Title = {soup.title.string}:  {url}\")\n",
    "    \n",
    "    content_div = soup.find(\"div\", {\"class\":\"mw-parser-output\"})\n",
    "    \n",
    "    p_links_found, valid_link = check_in_tag(content_div, \"p\")\n",
    "    a_links_found = False\n",
    "    \n",
    "    if p_links_found == False:\n",
    "        a_links_found, valid_link = check_in_tag(content_div, \"li\")\n",
    "    \n",
    "\n",
    "            \n",
    "    if valid_link is None:\n",
    "        print(\"No valid first link!\")\n",
    "        return\n",
    "    elif (soup.title.string == \"Philosophy - Wikipedia\"):\n",
    "        print(\"reached the end Philosophy\")\n",
    "        return\n",
    "    else:\n",
    "        time.sleep(0.5)\n",
    "        first_valid_link(\"https://en.wikipedia.org\" +valid_link)\n",
    "    \n",
    "\n",
    "    \n",
    "    \n",
    "url = input()\n",
    "first_valid_link(url)\n",
    "    "
   ]
  },
  {
   "cell_type": "code",
   "execution_count": null,
   "metadata": {},
   "outputs": [],
   "source": []
  }
 ],
 "metadata": {
  "kernelspec": {
   "display_name": "Python 3",
   "language": "python",
   "name": "python3"
  },
  "language_info": {
   "codemirror_mode": {
    "name": "ipython",
    "version": 3
   },
   "file_extension": ".py",
   "mimetype": "text/x-python",
   "name": "python",
   "nbconvert_exporter": "python",
   "pygments_lexer": "ipython3",
   "version": "3.6.10"
  }
 },
 "nbformat": 4,
 "nbformat_minor": 4
}
